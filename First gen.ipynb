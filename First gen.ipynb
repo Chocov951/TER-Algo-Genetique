{
 "cells": [
  {
   "cell_type": "code",
   "execution_count": 2,
   "metadata": {},
   "outputs": [],
   "source": [
    "import json\n",
    "import random"
   ]
  },
  {
   "cell_type": "code",
   "execution_count": 3,
   "metadata": {},
   "outputs": [],
   "source": [
    "tpop = 30\n",
    "\n",
    "for i in range(tpop/2-1) :\n",
    "    with open(\"ADNs.json\") as jsonFile:\n",
    "        ADNs = json.load(jsonFile)\n",
    "        jsonFile.close()\n",
    "    \n",
    "    \n",
    "    p1 = random.randint(0,len(ADNs[\"ADN\"])-1) # On détermine le parent 1\n",
    "    while True:\n",
    "        p2 = random.randint(0,len(ADNs[\"ADN\"])-1) # On détermine le parent 2\n",
    "        if(p2 != p1):\n",
    "            break\n",
    "\n",
    "    ADNp1 = ADNs[\"ADN\"][p1] \n",
    "    ADNp2 = ADNs[\"ADN\"][p2] \n",
    "    \n",
    "    # On détermine à quel endroit on coupe l'adn\n",
    "    p1Split = random.randint(0,len(ADNp1)/4) * 4\n",
    "    p2Split = random.randint(0,len(ADNp2)/4) * 4\n",
    "\n",
    "    f1a = \"\" # Première moitié de fils 1\n",
    "    f1b = \"\" # Deuxième moitié de fils 1\n",
    "    f2a = \"\" # Première moitié de fils 2\n",
    "    f2b = \"\" # Deuxième moitié de fils 2\n",
    "\n",
    "    p1Len = len(ADNp1)\n",
    "    p2Len = len(ADNp2)\n",
    "\n",
    "    for j in range(p1Len) :\n",
    "        if (j<p1Split) : f1a += ADNp1[j]\n",
    "        else : f2b += ADNp1[j]\n",
    "\n",
    "    for j in range(p2Len) :\n",
    "        if (j<p2Split) : f2a += ADNp2[j]\n",
    "        else : f1b += ADNp2[j]\n",
    "\n",
    "    ADNs[\"ADN\"].append(f1a + f1b)\n",
    "    ADNs[\"ADN\"].append(f2a + f2b)\n",
    "    \n",
    "    with open(\"ADNs.json\", \"w\") as f:\n",
    "        json.dump(ADNs, f)\n",
    "        f.close()\n",
    " "
   ]
  },
  {
   "cell_type": "code",
   "execution_count": null,
   "metadata": {},
   "outputs": [],
   "source": []
  }
 ],
 "metadata": {
  "kernelspec": {
   "display_name": "Python 3 (ipykernel)",
   "language": "python",
   "name": "python3"
  },
  "language_info": {
   "codemirror_mode": {
    "name": "ipython",
    "version": 3
   },
   "file_extension": ".py",
   "mimetype": "text/x-python",
   "name": "python",
   "nbconvert_exporter": "python",
   "pygments_lexer": "ipython3",
   "version": "3.7.13"
  }
 },
 "nbformat": 4,
 "nbformat_minor": 2
}
